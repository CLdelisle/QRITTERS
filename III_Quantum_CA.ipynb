{
 "cells": [
  {
   "cell_type": "code",
   "execution_count": 1,
   "id": "37c94182",
   "metadata": {},
   "outputs": [],
   "source": [
    "# import necessary libraries\n",
    "\n",
    "import numpy as np\n",
    "from qiskit import QuantumCircuit\n",
    "from qiskit.providers.aer import AerSimulator\n",
    "from qiskit.quantum_info.operators import Operator\n",
    "import matplotlib.pyplot as plt\n",
    "from matplotlib.colors import ListedColormap\n",
    "from matplotlib import animation\n",
    "\n",
    "%matplotlib notebook"
   ]
  },
  {
   "cell_type": "markdown",
   "id": "3aae54f2",
   "metadata": {},
   "source": [
    "# III. Quantum Cellular Automata"
   ]
  },
  {
   "cell_type": "markdown",
   "id": "68eefaba",
   "metadata": {},
   "source": [
    "In this notebook, we'll go over a simple quantization procedure which will map the classical Critters cellular automata to a quantum Critters counterpart which we call <b>Qritters</b>. The notebook assumes some familiarity with quantum mechanics, but we will try to keep things as inclusive as possible here."
   ]
  },
  {
   "cell_type": "markdown",
   "id": "2f16d329",
   "metadata": {},
   "source": [
    "Remember that the ruleset for Critters can be summed up nicely using the following diagram (image credit: [Wikipedia Commons](https://en.wikipedia.org/wiki/File:Critters_transition_rule.svg)):\n",
    "\n",
    "![critters rules](img/critters_rules.svg)\n",
    "\n",
    "The Critters world is made up of many cells, organized into \"blocks\" of four cells. This image tells us how the cells evolve; a block of cells which are all `OFF` at one timestep (top left block of the first image) are all turned `ON` at the next timestep (top left block of the second image), and so on. In the last notebook, we turned this image into code using a Python dictionary. In the quantum case we'll have to do something a little more interesting."
   ]
  },
  {
   "cell_type": "markdown",
   "id": "4b9f17b0",
   "metadata": {},
   "source": [
    "## Quantization"
   ]
  },
  {
   "cell_type": "markdown",
   "id": "90ff4869",
   "metadata": {},
   "source": [
    "What we'll do now is \"quantize\" the classical Critters automaton. Our quantization procedure is defined as follows. Each classical cell in the automaton was represented by a classical bit, which indicated whether that cell was `ON` or `OFF`. To quantize, we'll simply replace each of these classical bits by a single logical <b>qubit</b> (this way of mapping classical bits to qubits is called [\"basis encoding\"](https://learn.qiskit.org/course/machine-learning/data-encoding#data-3-0)). Qubits are two-level quantum systems, and just as classical bits can be either `0` or `1`, qubits can be in the quantum states $|0\\rangle$ or $|1\\rangle$. These two quantum states are known as <i>computational basis states</i>.\n",
    "\n",
    "The difference between a qubit and a classical bit, however, is that a qubit can also be in a <i>superposition</i> of both of these states,\n",
    "$$ \\alpha |0\\rangle + \\beta |1\\rangle , $$\n",
    "where $\\alpha$ and $\\beta$ are complex numbers. This is the most general state in which a qubit can be. Setting either $\\alpha$ or $\\beta$ to zero gives one of the computational basis states.\n",
    "\n",
    "In quantum mechanics, a superposition of this form means that, if the qubit is measured, it is found to be in the state $|0\\rangle$ with probability $|\\alpha|^2$, and in the state $|1\\rangle$ with probability $|\\beta|^2$. Note that because probabilities must add up to 1, this means $|\\alpha|^2 + |\\beta|^2$ better equal 1."
   ]
  },
  {
   "cell_type": "markdown",
   "id": "99868ae5",
   "metadata": {},
   "source": [
    "Let the state of each block be represented by a 4-qubit state, with $|0\\rangle$ representing the state `OFF` and $|1\\rangle$ representing the state `ON`. In each block of cells (qubits), the top left cell will be represented by the most significant bit, followed by the top right cell, then the bottom left, then finally the bottom right. For example, the blocks in the top row of the left image above are in the states $|0000\\rangle$, $|0001\\rangle$, $|0010\\rangle$, and $|0011\\rangle$ respectively.\n",
    "\n",
    "If we do this, we can cast the Critters ruleset as a unitary operator which acts on a block of cells, taking each possible block state into its appropriately updated state. Writing things out very explicitly here, we define the unitary operator $\\hat{Q}$ as\n",
    "$$\n",
    "\\begin{aligned}\n",
    "\\hat{Q} \\;\\equiv\\; &| 1111 \\rangle\\langle 0000 | + | 1110 \\rangle\\langle 0001 | + | 1101 \\rangle\\langle 0010 | + | 0011 \\rangle\\langle 0011 | \\\\\n",
    "+\\; &| 1011 \\rangle\\langle 0100 | + | 0101 \\rangle\\langle 0101 | + | 0110 \\rangle\\langle 0110 | + | 0001 \\rangle\\langle 0111 | \\\\\n",
    "+\\; &| 0111 \\rangle\\langle 1000 | + | 1001 \\rangle\\langle 0001 | + | 1010 \\rangle\\langle 0010 | + | 0010 \\rangle\\langle 1011 | \\\\\n",
    "+\\; &| 1100 \\rangle\\langle 1100 | + | 0100 \\rangle\\langle 1101 | + | 1000 \\rangle\\langle 1110 | + | 0000 \\rangle\\langle 1111 | \n",
    "\\end{aligned} .\n",
    "$$\n",
    "\n",
    "The quantized Critters evolution generated by $\\hat{Q}$ is what we call <b>Qritters</b>. The cell below defines this operator in Qiskit so that we can use it later."
   ]
  },
  {
   "cell_type": "code",
   "execution_count": 2,
   "id": "fa4dbe5f",
   "metadata": {},
   "outputs": [
    {
     "data": {
      "text/plain": [
       "array([[0., 0., 0., 0., 0., 0., 0., 0., 0., 0., 0., 0., 0., 0., 0., 1.],\n",
       "       [0., 0., 0., 0., 0., 0., 0., 1., 0., 0., 0., 0., 0., 0., 0., 0.],\n",
       "       [0., 0., 0., 0., 0., 0., 0., 0., 0., 0., 0., 1., 0., 0., 0., 0.],\n",
       "       [0., 0., 0., 1., 0., 0., 0., 0., 0., 0., 0., 0., 0., 0., 0., 0.],\n",
       "       [0., 0., 0., 0., 0., 0., 0., 0., 0., 0., 0., 0., 0., 1., 0., 0.],\n",
       "       [0., 0., 0., 0., 0., 1., 0., 0., 0., 0., 0., 0., 0., 0., 0., 0.],\n",
       "       [0., 0., 0., 0., 0., 0., 1., 0., 0., 0., 0., 0., 0., 0., 0., 0.],\n",
       "       [0., 0., 0., 0., 0., 0., 0., 0., 1., 0., 0., 0., 0., 0., 0., 0.],\n",
       "       [0., 0., 0., 0., 0., 0., 0., 0., 0., 0., 0., 0., 0., 0., 1., 0.],\n",
       "       [0., 0., 0., 0., 0., 0., 0., 0., 0., 1., 0., 0., 0., 0., 0., 0.],\n",
       "       [0., 0., 0., 0., 0., 0., 0., 0., 0., 0., 1., 0., 0., 0., 0., 0.],\n",
       "       [0., 0., 0., 0., 1., 0., 0., 0., 0., 0., 0., 0., 0., 0., 0., 0.],\n",
       "       [0., 0., 0., 0., 0., 0., 0., 0., 0., 0., 0., 0., 1., 0., 0., 0.],\n",
       "       [0., 0., 1., 0., 0., 0., 0., 0., 0., 0., 0., 0., 0., 0., 0., 0.],\n",
       "       [0., 1., 0., 0., 0., 0., 0., 0., 0., 0., 0., 0., 0., 0., 0., 0.],\n",
       "       [1., 0., 0., 0., 0., 0., 0., 0., 0., 0., 0., 0., 0., 0., 0., 0.]])"
      ]
     },
     "execution_count": 2,
     "metadata": {},
     "output_type": "execute_result"
    }
   ],
   "source": [
    "cr_nums = [15, 14, 13, 3, 11, 5, 6, 1, 7, 9, 10, 2, 12, 4, 8, 0]\n",
    "\n",
    "qritters = np.zeros((16,16))\n",
    "\n",
    "for i,j in enumerate(cr_nums):\n",
    "    qritters[j,i] = 1\n",
    "\n",
    "QRITTERS = Operator(qritters)\n",
    "\n",
    "# Verify that our evolution is unitary\n",
    "assert(QRITTERS.is_unitary())\n",
    "\n",
    "qritters"
   ]
  },
  {
   "cell_type": "markdown",
   "id": "d13c1802",
   "metadata": {},
   "source": [
    "## Implementing Qritters as a Quantum Circuit in Qiskit"
   ]
  },
  {
   "cell_type": "markdown",
   "id": "ae34bfe3",
   "metadata": {},
   "source": [
    "Here we'll show how to implement the Qritters rule in a quantum circuit for the smallest possible world - a single block of cells.\n",
    "\n",
    "First we get the simulation backend, and define the qubits we'll need, by assigning them ID labels."
   ]
  },
  {
   "cell_type": "code",
   "execution_count": 3,
   "id": "e2ffadbf",
   "metadata": {},
   "outputs": [],
   "source": [
    "# get the circuit simulator\n",
    "sim = AerSimulator() \n",
    "\n",
    "# define qubit labels\n",
    "qubit_ids = np.arange(4)[::-1].reshape((2, 2))\n",
    "\n",
    "# number of runs of each circuit\n",
    "SHOTS = 100"
   ]
  },
  {
   "cell_type": "markdown",
   "id": "f2b9caff",
   "metadata": {},
   "source": [
    "Note that the qubit IDs are reversed here (note the `[::-1]` above); this is because Qiskit labels its qubits in \"little endian\" order, which is the opposite of our convention."
   ]
  },
  {
   "cell_type": "markdown",
   "id": "1660e7c9",
   "metadata": {},
   "source": [
    "### Initial Conditions"
   ]
  },
  {
   "cell_type": "markdown",
   "id": "aba3d6f8",
   "metadata": {},
   "source": [
    "Qiskit always begins by putting all the qubits in the $|0\\rangle$ state. For illustration, we want to start with the Qritters block in the state $|0001\\rangle$. We flip the last qubit from $|0\\rangle$ to $|1\\rangle$ by acting with a Pauli $\\hat{X}$ operator, $ \\hat{X}|0\\rangle = |1\\rangle $."
   ]
  },
  {
   "cell_type": "code",
   "execution_count": 4,
   "id": "4cca44f2",
   "metadata": {},
   "outputs": [],
   "source": [
    "# create the quantum circuit\n",
    "circuit = QuantumCircuit(4, 4)\n",
    "\n",
    "# act with Pauli X on bottom-right qubit in the block\n",
    "circuit.x(qubit_ids[1,1])\n",
    "\n",
    "# measure all the qubits\n",
    "circuit.measure(qubit_ids.flatten(), qubit_ids.flatten())\n",
    "\n",
    "# run (simulate) circuit    \n",
    "counts = sim.run(circuit, shots=SHOTS).result().get_counts()"
   ]
  },
  {
   "cell_type": "code",
   "execution_count": 5,
   "id": "9522c1aa",
   "metadata": {},
   "outputs": [
    {
     "data": {
      "text/html": [
       "<pre style=\"word-wrap: normal;white-space: pre;background: #fff0;line-height: 1.1;font-family: &quot;Courier New&quot;,Courier,monospace\">          ┌─┐         \n",
       "q_3: ─────┤M├─────────\n",
       "          └╥┘┌─┐      \n",
       "q_2: ──────╫─┤M├──────\n",
       "           ║ └╥┘┌─┐   \n",
       "q_1: ──────╫──╫─┤M├───\n",
       "     ┌───┐ ║  ║ └╥┘┌─┐\n",
       "q_0: ┤ X ├─╫──╫──╫─┤M├\n",
       "     └───┘ ║  ║  ║ └╥┘\n",
       "c: 4/══════╩══╩══╩══╩═\n",
       "           3  2  1  0 </pre>"
      ],
      "text/plain": [
       "          ┌─┐         \n",
       "q_3: ─────┤M├─────────\n",
       "          └╥┘┌─┐      \n",
       "q_2: ──────╫─┤M├──────\n",
       "           ║ └╥┘┌─┐   \n",
       "q_1: ──────╫──╫─┤M├───\n",
       "     ┌───┐ ║  ║ └╥┘┌─┐\n",
       "q_0: ┤ X ├─╫──╫──╫─┤M├\n",
       "     └───┘ ║  ║  ║ └╥┘\n",
       "c: 4/══════╩══╩══╩══╩═\n",
       "           3  2  1  0 "
      ]
     },
     "execution_count": 5,
     "metadata": {},
     "output_type": "execute_result"
    }
   ],
   "source": [
    "circuit.draw(reverse_bits=True)"
   ]
  },
  {
   "cell_type": "code",
   "execution_count": 6,
   "id": "2f1e223b",
   "metadata": {},
   "outputs": [
    {
     "data": {
      "text/plain": [
       "{'0001': 100}"
      ]
     },
     "execution_count": 6,
     "metadata": {},
     "output_type": "execute_result"
    }
   ],
   "source": [
    "counts"
   ]
  },
  {
   "cell_type": "markdown",
   "id": "6f191d76",
   "metadata": {},
   "source": [
    "So we have now prepared the initial state $|0001\\rangle$, as desired. We've simulated 100 measurement events and gotten the result `0001` in all of them. Now we can go on and allow the block to update according to the Qritters rules."
   ]
  },
  {
   "cell_type": "markdown",
   "id": "7c8791a7",
   "metadata": {},
   "source": [
    "### One Qritters Update"
   ]
  },
  {
   "cell_type": "code",
   "execution_count": 7,
   "id": "6446d968",
   "metadata": {},
   "outputs": [],
   "source": [
    "# one block circuit with one Qritters update\n",
    "\n",
    "# define the block of cells\n",
    "first_block  = (qubit_ids[0,0], qubit_ids[0,1], qubit_ids[1,0], qubit_ids[1,1])\n",
    "\n",
    "# circuit initial conditions\n",
    "circuit = QuantumCircuit(4, 4)\n",
    "circuit.x(qubit_ids[1,1])\n",
    "\n",
    "# do a single Qritters update\n",
    "circuit.unitary(QRITTERS, first_block, label=\"Q\")\n",
    "\n",
    "# measure\n",
    "circuit.measure(qubit_ids.flatten(), qubit_ids.flatten())\n",
    "\n",
    "# Run (simulate) circuit    \n",
    "counts = dict(sim.run(circuit, shots=SHOTS).result().get_counts())"
   ]
  },
  {
   "cell_type": "code",
   "execution_count": 8,
   "id": "104d4a95",
   "metadata": {
    "scrolled": false
   },
   "outputs": [
    {
     "data": {
      "text/html": [
       "<pre style=\"word-wrap: normal;white-space: pre;background: #fff0;line-height: 1.1;font-family: &quot;Courier New&quot;,Courier,monospace\">          ┌────┐┌─┐         \n",
       "q_3: ─────┤0   ├┤M├─────────\n",
       "          │    │└╥┘┌─┐      \n",
       "q_2: ─────┤1   ├─╫─┤M├──────\n",
       "          │  Q │ ║ └╥┘┌─┐   \n",
       "q_1: ─────┤2   ├─╫──╫─┤M├───\n",
       "     ┌───┐│    │ ║  ║ └╥┘┌─┐\n",
       "q_0: ┤ X ├┤3   ├─╫──╫──╫─┤M├\n",
       "     └───┘└────┘ ║  ║  ║ └╥┘\n",
       "c: 4/════════════╩══╩══╩══╩═\n",
       "                 3  2  1  0 </pre>"
      ],
      "text/plain": [
       "          ┌────┐┌─┐         \n",
       "q_3: ─────┤0   ├┤M├─────────\n",
       "          │    │└╥┘┌─┐      \n",
       "q_2: ─────┤1   ├─╫─┤M├──────\n",
       "          │  Q │ ║ └╥┘┌─┐   \n",
       "q_1: ─────┤2   ├─╫──╫─┤M├───\n",
       "     ┌───┐│    │ ║  ║ └╥┘┌─┐\n",
       "q_0: ┤ X ├┤3   ├─╫──╫──╫─┤M├\n",
       "     └───┘└────┘ ║  ║  ║ └╥┘\n",
       "c: 4/════════════╩══╩══╩══╩═\n",
       "                 3  2  1  0 "
      ]
     },
     "execution_count": 8,
     "metadata": {},
     "output_type": "execute_result"
    }
   ],
   "source": [
    "circuit.draw(reverse_bits=True)"
   ]
  },
  {
   "cell_type": "code",
   "execution_count": 9,
   "id": "77fe87bf",
   "metadata": {},
   "outputs": [
    {
     "data": {
      "text/plain": [
       "{'1110': 100}"
      ]
     },
     "execution_count": 9,
     "metadata": {},
     "output_type": "execute_result"
    }
   ],
   "source": [
    "counts"
   ]
  },
  {
   "cell_type": "markdown",
   "id": "cbac2086",
   "metadata": {},
   "source": [
    "The initial state $|0001\\rangle$ has now been mapped to $|1110\\rangle$ successfully."
   ]
  },
  {
   "cell_type": "markdown",
   "id": "dc00593b",
   "metadata": {},
   "source": [
    "### Two Qritters Updates"
   ]
  },
  {
   "cell_type": "code",
   "execution_count": 10,
   "id": "4f50729c",
   "metadata": {},
   "outputs": [],
   "source": [
    "# one block circuit with two Qritters updates\n",
    "\n",
    "# define the block of cells\n",
    "second_block = (qubit_ids[1,1], qubit_ids[1,0], qubit_ids[0,1], qubit_ids[0,0])\n",
    "\n",
    "# circuit initial conditions\n",
    "circuit = QuantumCircuit(4, 4)\n",
    "circuit.x(qubit_ids[1,1])\n",
    "\n",
    "# do two Qritters updates\n",
    "circuit.unitary(QRITTERS, first_block, label=\"Q\")\n",
    "circuit.unitary(QRITTERS, second_block, label=\"Q\")\n",
    "\n",
    "# measure\n",
    "circuit.measure(qubit_ids.flatten(), qubit_ids.flatten())\n",
    "\n",
    "# Run (simulate) circuit    \n",
    "counts = dict(sim.run(circuit, shots=SHOTS).result().get_counts())"
   ]
  },
  {
   "cell_type": "code",
   "execution_count": 11,
   "id": "749cefff",
   "metadata": {},
   "outputs": [
    {
     "data": {
      "text/html": [
       "<pre style=\"word-wrap: normal;white-space: pre;background: #fff0;line-height: 1.1;font-family: &quot;Courier New&quot;,Courier,monospace\">          ┌────┐┌────┐┌─┐         \n",
       "q_3: ─────┤0   ├┤3   ├┤M├─────────\n",
       "          │    ││    │└╥┘┌─┐      \n",
       "q_2: ─────┤1   ├┤2   ├─╫─┤M├──────\n",
       "          │  Q ││  Q │ ║ └╥┘┌─┐   \n",
       "q_1: ─────┤2   ├┤1   ├─╫──╫─┤M├───\n",
       "     ┌───┐│    ││    │ ║  ║ └╥┘┌─┐\n",
       "q_0: ┤ X ├┤3   ├┤0   ├─╫──╫──╫─┤M├\n",
       "     └───┘└────┘└────┘ ║  ║  ║ └╥┘\n",
       "c: 4/══════════════════╩══╩══╩══╩═\n",
       "                       3  2  1  0 </pre>"
      ],
      "text/plain": [
       "          ┌────┐┌────┐┌─┐         \n",
       "q_3: ─────┤0   ├┤3   ├┤M├─────────\n",
       "          │    ││    │└╥┘┌─┐      \n",
       "q_2: ─────┤1   ├┤2   ├─╫─┤M├──────\n",
       "          │  Q ││  Q │ ║ └╥┘┌─┐   \n",
       "q_1: ─────┤2   ├┤1   ├─╫──╫─┤M├───\n",
       "     ┌───┐│    ││    │ ║  ║ └╥┘┌─┐\n",
       "q_0: ┤ X ├┤3   ├┤0   ├─╫──╫──╫─┤M├\n",
       "     └───┘└────┘└────┘ ║  ║  ║ └╥┘\n",
       "c: 4/══════════════════╩══╩══╩══╩═\n",
       "                       3  2  1  0 "
      ]
     },
     "execution_count": 11,
     "metadata": {},
     "output_type": "execute_result"
    }
   ],
   "source": [
    "circuit.draw(reverse_bits=True)"
   ]
  },
  {
   "cell_type": "code",
   "execution_count": 12,
   "id": "745b63f3",
   "metadata": {
    "scrolled": true
   },
   "outputs": [
    {
     "data": {
      "text/plain": [
       "{'1000': 100}"
      ]
     },
     "execution_count": 12,
     "metadata": {},
     "output_type": "execute_result"
    }
   ],
   "source": [
    "counts"
   ]
  },
  {
   "cell_type": "markdown",
   "id": "3c12e5e4",
   "metadata": {},
   "source": [
    "So we see the state has evolved according to the Qritters rule:\n",
    "$$|0001\\rangle \\rightarrow |1110\\rangle \\rightarrow |1000\\rangle$$"
   ]
  },
  {
   "cell_type": "markdown",
   "id": "38b6ec70",
   "metadata": {},
   "source": [
    "This is nice and illustrative, but it isn't very exciting to update only a single block over and over. We'll now move on to a simulation of a 10x10 grid of cells."
   ]
  },
  {
   "cell_type": "markdown",
   "id": "b7574237",
   "metadata": {},
   "source": [
    "## Simulating Qritters"
   ]
  },
  {
   "cell_type": "markdown",
   "id": "364c3c27",
   "metadata": {},
   "source": [
    "The cell below defines a function which creates a quantum circuit representing a Qritters simulation with a given number of timesteps, and then returns the measurement statistics of the output of the circuit. Right now, this function has some predefined initial conditions that are implemented by hand, although this will be simple to generalize. After the next cell we'll explain how we perform - and visualize the results of these simulations."
   ]
  },
  {
   "cell_type": "code",
   "execution_count": 13,
   "id": "92302b74",
   "metadata": {},
   "outputs": [],
   "source": [
    "def run_simulation(block_operator, initial_condition, grid_size=4,\n",
    "                   num_frames=1, shots=100, flicker=False):\n",
    "    \"\"\"\n",
    "    Run a simulation of a block QCA\n",
    "\n",
    "    Parameters\n",
    "    ----------\n",
    "    block_operator : Operator\n",
    "        4-qubit operator used to update each block every timestep\n",
    "    initial_condition : {'glider', 'close', 'far', 'superposition'}, optional\n",
    "        choice of predefined initial conditions\n",
    "    grid_size : int, optional\n",
    "        side length of square grid, in number of cells\n",
    "    num_frames : int, optional\n",
    "        number of timesteps in the simulation\n",
    "    shots : int, optional\n",
    "        number of measurements of the circuit output to perform\n",
    "        when generating statistics\n",
    "    flicker : bool, optional\n",
    "        if True, inverts the output before displaying for odd timesteps,\n",
    "        preventing flickering of empty space cells in some block CA\n",
    "\n",
    "    Returns\n",
    "    -------\n",
    "    tuple\n",
    "        a tuple with two elements:\n",
    "        * the first is a numpy.ndarray array of shape (grid_size, grid_size),\n",
    "        with each element being the fraction of measurements of the \n",
    "        associated qubit which yielded state |1>\n",
    "        * the second is a numpy.ndarray of all measured grid configurations\n",
    "    \"\"\"\n",
    "\n",
    "    if initial_condition not in [\"glider\", \"close\", \"far\", \"superposition\"]:\n",
    "        print(\"Initial condition not valid. Defaulting to \\\"superposition\\\".\")\n",
    "        initial_condition = \"superposition\"\n",
    "    \n",
    "    # constants\n",
    "    num_qubits = grid_size**2\n",
    "    frames_odd = bool(num_frames % 2) # if True, may need to invert grid before rendering\n",
    "    \n",
    "    qubit_ids = np.arange(num_qubits)[::-1].reshape((grid_size, grid_size))\n",
    "    # these ids are reversed (here.....^..) because of Qiskit's little endian qubit labelling        \n",
    "        \n",
    "    # define blocks in Margolus neighborhood\n",
    "    even_blocks = [[i, j] for i in range(0, grid_size, 2) for j in range(0, grid_size, 2)]\n",
    "    odd_blocks = [[i, j] for i in range(1, grid_size, 2) for j in range(1, grid_size, 2)]\n",
    "    \n",
    "    # create circuit\n",
    "    circuit = QuantumCircuit(num_qubits, num_qubits)\n",
    "    \n",
    "    # implement initial conditions\n",
    "    if initial_condition == \"glider\":\n",
    "        circuit.x([qubit_ids[5,2],\n",
    "                   qubit_ids[5,5],\n",
    "                   qubit_ids[4,3],\n",
    "                   qubit_ids[4,4]])\n",
    "    \n",
    "    elif initial_condition == \"close\": # fig. (b)\n",
    "        circuit.x([qubit_ids[0,4],\n",
    "                   qubit_ids[0,7],\n",
    "                   qubit_ids[1,5],\n",
    "                   qubit_ids[1,6]])\n",
    "        circuit.x([qubit_ids[5,4],\n",
    "                   qubit_ids[5,7],\n",
    "                   qubit_ids[4,5],\n",
    "                   qubit_ids[4,6]])\n",
    "\n",
    "    elif initial_condition == \"far\": # fig. (a)\n",
    "        circuit.x([qubit_ids[0,4],\n",
    "                   qubit_ids[0,7],\n",
    "                   qubit_ids[1,5],\n",
    "                   qubit_ids[1,6]])\n",
    "        circuit.x([qubit_ids[7,4],\n",
    "                   qubit_ids[7,7],\n",
    "                   qubit_ids[6,5],\n",
    "                   qubit_ids[6,6]])\n",
    "        \n",
    "    else: # initial_condition == \"q_superposition\"\n",
    "        circuit.x([qubit_ids[0,4],\n",
    "                   qubit_ids[0,7],\n",
    "                   qubit_ids[1,5],\n",
    "                   qubit_ids[1,6]])\n",
    "        circuit.x([qubit_ids[7,4],\n",
    "                   qubit_ids[7,7],\n",
    "                   qubit_ids[6,5],\n",
    "                   qubit_ids[6,6]])\n",
    "        circuit.h(qubit_ids[5,4]) \n",
    "        circuit.cx(qubit_ids[5,4], [qubit_ids[5,7],\n",
    "                                    qubit_ids[4,5],\n",
    "                                    qubit_ids[4,6],\n",
    "                                    qubit_ids[7,4],  \n",
    "                                    qubit_ids[7,7],\n",
    "                                    qubit_ids[6,5],\n",
    "                                    qubit_ids[6,6]])\n",
    "    \n",
    "    # get simulator \n",
    "    sim = AerSimulator()  \n",
    "    \n",
    "    # add block_operator updates to the circuit\n",
    "    for _ in range(num_frames // 2):\n",
    "        for i,j in odd_blocks:\n",
    "            block = (qubit_ids[i,j], qubit_ids[i,(j+1)%grid_size],\n",
    "                     qubit_ids[(i+1)%grid_size,j], qubit_ids[(i+1)%grid_size,(j+1)%grid_size])\n",
    "\n",
    "            circuit.unitary(block_operator, block)\n",
    "\n",
    "        for i,j in even_blocks:\n",
    "            block = (qubit_ids[i,j], qubit_ids[i,(j+1)%grid_size],\n",
    "                     qubit_ids[(i+1)%grid_size,j], qubit_ids[(i+1)%grid_size,(j+1)%grid_size])\n",
    "\n",
    "            circuit.unitary(block_operator, block)\n",
    "\n",
    "\n",
    "    if frames_odd:\n",
    "        for i,j in odd_blocks:\n",
    "            block = (qubit_ids[i,j], qubit_ids[i,(j+1)%grid_size],\n",
    "                     qubit_ids[(i+1)%grid_size,j], qubit_ids[(i+1)%grid_size,(j+1)%grid_size])\n",
    "\n",
    "            circuit.unitary(block_operator, block)\n",
    "\n",
    "    # measure all the qubits at the end of the circuit\n",
    "    circuit.measure(qubit_ids.flatten(), qubit_ids.flatten())\n",
    "        \n",
    "    # run (simulate) circuit `shots` times and get results   \n",
    "    counts = dict(sim.run(circuit, shots=shots).result().get_counts())\n",
    "    \n",
    "    measured_configs = counts.keys()\n",
    "\n",
    "    # implements the anti-flickering rendering of the block CA, if necessary \n",
    "    if flicker and frames_odd:\n",
    "        counts = [(np.array([(int(i)+1)%2 for i in k]), v) for k,v in counts.items()]\n",
    "    else:\n",
    "        counts = [(np.array([int(i) for i in k]), v) for k,v in counts.items()]\n",
    "    \n",
    "    # compute which fraction of measurements on each qubit yielded |1>\n",
    "    final_probs = np.sum([result*amount for result, amount in counts], axis=0) / shots\n",
    "    \n",
    "    return (final_probs.reshape((grid_size, grid_size)),\n",
    "            [np.array(list(c)).astype(int).reshape((GRID_SIZE, GRID_SIZE)) for c in measured_configs])\n",
    "    "
   ]
  },
  {
   "cell_type": "markdown",
   "id": "ae540269",
   "metadata": {},
   "source": [
    "## Measurement and Visualization"
   ]
  },
  {
   "cell_type": "markdown",
   "id": "8dc1eaf2",
   "metadata": {},
   "source": [
    "It is easy to understand the visualization of a classical automaton. When we simulated Critters in the previous notebook, we just looked at the state at each timestep and rendered that state to the screen. But in quantum mechanics, measurement is, in a precise sense, incredibly destructive. Assume a qubit is in the state \n",
    "$$\\alpha |0\\rangle + \\beta |1 \\rangle.$$\n",
    "If a measurement of that state yields the result $|1\\rangle$, then after the measurement - according to the usual interpretation of quantum mechanics - the state \"collapses\" into the state consistent with that measurement result, which is $|1\\rangle$. In other words, the measurement destroys the superposition:\n",
    "$$\\alpha |0\\rangle + \\beta |1 \\rangle \\rightarrow \\textrm{measure 1} \\rightarrow |1\\rangle$$\n",
    "\n",
    "This means we have a problem. How are we to visualize the simulation? We can't simply measure the state at every timestep and display the result; that would destroy any interesting superpositions present in the system. Instead, what we'll do is run the simulation many, many times, and look at the measurement statistics. \n",
    "\n",
    "For example after one timestep, we'll run a circuit which includes one Qritters update some number of times (here we'll do it 100 times), and measure all of the qubits each time. Then, to visualize the state after one timestep, we display the empirical probability with which we measured each qubit to be in the state $|1\\rangle$. We then move on to the next timestep, running a circuit with two Qritters layers 100 times, and visualize that step in the same way, and so on.\n",
    "\n",
    "Let us now show an example of how this works by using a simple initial condition corresponding to a glider. The code for the animation is in the following cell."
   ]
  },
  {
   "cell_type": "code",
   "execution_count": null,
   "id": "7388982e",
   "metadata": {
    "scrolled": false
   },
   "outputs": [],
   "source": [
    "# animate\n",
    "\n",
    "fig = plt.figure(figsize=(5,5))\n",
    "ax = fig.gca()\n",
    "ax.axis('off')\n",
    "\n",
    "# use 10x10 grid of qubits\n",
    "GRID_SIZE = 10\n",
    "\n",
    "NUM_FRAMES = 7\n",
    "\n",
    "ims = []\n",
    "\n",
    "measured_configs = None\n",
    "\n",
    "for n in range(NUM_FRAMES): \n",
    "    sim_result, measured_configs = run_simulation(QRITTERS, \"glider\", flicker=True, grid_size=GRID_SIZE, num_frames=n)\n",
    "    ims.append((ax.imshow(sim_result, cmap=\"hot\", vmin=0, vmax=1, interpolation=None),))\n",
    "\n",
    "fig.colorbar(ims[0][0])\n",
    "fig.tight_layout()    \n",
    "    \n",
    "anim = animation.ArtistAnimation(fig, ims, interval=88, repeat_delay=0, blit=True)\n",
    "\n",
    "# anim.save(\"img/quantum_glider.gif\", writer=\"imagemagick\")"
   ]
  },
  {
   "cell_type": "markdown",
   "id": "ce99fd4a",
   "metadata": {},
   "source": [
    "Here is what we get when we evolve the \"glider\" initial condition for 20 frames:\n",
    "\n",
    "![quantum glider](img/quantum_glider.gif)\n",
    "\n",
    "The colorbar on the right indicates the fraction of the time each qubit was measured to be in the state $|1\\rangle$. So at each timestep, what we see is that the qubits comprising the glider were measured to be in the state $|1\\rangle$ 100% of the time, while all the other cells were always measured to be in the state $|0\\rangle$.\n",
    "\n",
    "This is our first explicit example of a Qritter! The world in which this Qritter lives is nice and abstract - we found this glider in the world of quantum statistics, generated by hundreds of classical measurements of quantum circuits, simulated virtually on a classical computer."
   ]
  }
 ],
 "metadata": {
  "kernelspec": {
   "display_name": "Python 3 (ipykernel)",
   "language": "python",
   "name": "python3"
  },
  "language_info": {
   "codemirror_mode": {
    "name": "ipython",
    "version": 3
   },
   "file_extension": ".py",
   "mimetype": "text/x-python",
   "name": "python",
   "nbconvert_exporter": "python",
   "pygments_lexer": "ipython3",
   "version": "3.9.7"
  }
 },
 "nbformat": 4,
 "nbformat_minor": 5
}
