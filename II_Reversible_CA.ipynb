{
 "cells": [
  {
   "cell_type": "code",
   "execution_count": 1,
   "id": "adc31426",
   "metadata": {},
   "outputs": [],
   "source": [
    "# import necessary libraries\n",
    "\n",
    "import numpy as np\n",
    "import matplotlib.pyplot as plt\n",
    "from matplotlib.colors import ListedColormap\n",
    "from matplotlib import animation\n",
    "\n",
    "%matplotlib notebook"
   ]
  },
  {
   "cell_type": "markdown",
   "id": "61cd1a4a",
   "metadata": {},
   "source": [
    "# II. Reversible Cellular Automata"
   ]
  },
  {
   "cell_type": "markdown",
   "id": "23cb850c",
   "metadata": {},
   "source": [
    "Our first notebook looked at Conway's \"Game of Life\" - the most famous example of a cellular automaton. The popularity of that model, and the fact that it is a bit simpler to implement than the next model we'll look at, make it a good place to start. But as we discussed, Game of Life possesses one feature which will likely be a problem as we move toward <i>quantum</i> automata. The Game of Life rules are not reversible. Given the initial state of the system at time $t=0$, we can predict the state at a later timestep $t$. But we cannot recover the initial state at time $t=0$ from the state at the future time $t$, because many initial states can evolve to the same final state. \n",
    "\n",
    "Quantum mechanics, on the other hand, is inherently *reversible*. A quantum state $|\\psi(t)\\rangle$ at time $t$ is obtained from an initial state $|\\psi(0)\\rangle$ as\n",
    "$$\n",
    "|\\psi(t)\\rangle = \\hat{U}(t)|\\psi(0)\\rangle ,\n",
    "$$\n",
    "where the *time evolution operator* $\\hat{U}(t)$ is *unitary*, meaning that its inverse is its Hermitian conjugate, $\\hat{U}^{-1}(t) = \\hat{U}^\\dagger(t)$. This means that we can always formally recover the initial state from the state at $t$ via\n",
    "$$\n",
    "|\\psi(0)\\rangle = \\hat{U}^\\dagger(t)|\\psi(t)\\rangle.\n",
    "$$\n",
    "\n",
    "In order to more easily extend the physics of a cellular automaton to a quantum theory, we'll work with a <b>reversible</b> automaton going forward. In this notebook, we'll introduce a particular model called [Critters](https://en.wikipedia.org/wiki/Critters_(cellular_automaton%29), invented by Toffoli and Margolus in 1987, which we'll quantize in the next notebook."
   ]
  },
  {
   "cell_type": "markdown",
   "id": "16eb369e",
   "metadata": {},
   "source": [
    "## Critters"
   ]
  },
  {
   "cell_type": "markdown",
   "id": "53453304",
   "metadata": {},
   "source": [
    "The <b>Critters</b> model shares many similarities with Game of Life. It consists of a square grid of cells which each can be `ON` or `OFF`, and are updated based upon what states their neighbors are currently in at each timestep.\n",
    "\n",
    "The big difference in the Critters model is the ruleset and what we mean by \"neighbors;\" Critters is an example of a [block cellular automaton](https://en.wikipedia.org/wiki/Block_cellular_automaton), which defines a cell's neighbors using the [Margolus neighborhood](https://conwaylife.com/wiki/Margolus_neighbourhood). What we do in these kind of automata is first divide the grid into 2x2 \"blocks,\" demarcated by the blue lines seen below in the figure (image credit: [Wikipedia Commons](https://en.wikipedia.org/wiki/File:Critters_transition_rule.svg)). Then, for each block, we update its state at the next timestep based on the rule in the figure, in which white cells are `OFF` and green cells are `ON`.\n",
    "\n",
    "For example, looking at the top-left block in the figure, we see that, if a block is currently made up of four `OFF` cells, we must turn all four of those cells `ON` in the next timestep. The bottom-right block in the figure tells us that if a block currently contains four `ON` cells, we must turn them all `OFF` in the next timestep. The other possible configurations are defined similarly here.\n",
    "\n",
    "Each distinct block state at the current timestep transitions into a distinct block state at the next timestep. This is what makes the Critters ruleset <b>reversible</b> - we can tell what the state of the block was at the previous timestep by looking at its current state.\n",
    "\n",
    "Importantly, there is also one further subtlety. Every time step, we also alternate between dividing blocks using the blue lines in the figure, and the red dotted lines in the figure. In other words, the lines dividing up the 2x2 blocks shifts diagonally by one cell at each timestep. The rules however do not change for each individual block at each timestep."
   ]
  },
  {
   "cell_type": "markdown",
   "id": "c157fbfb",
   "metadata": {},
   "source": [
    "![critters rules](img/critters_rules.svg)"
   ]
  },
  {
   "cell_type": "markdown",
   "id": "c3e3ee84",
   "metadata": {},
   "source": [
    "<span style=\"background-color:orange\"><b>Note:</b></span> The Critters ruleset illustrated above has one very peculiar behavior. A grid with only `OFF` cells in its initial state will evolve by continually flickering back and forth between `OFF` and `ON`. The way this is usually handled is to invert the image of the grid before displaying it, if an odd number of timesteps have elapsed."
   ]
  },
  {
   "cell_type": "markdown",
   "id": "9ad08ce4",
   "metadata": {},
   "source": [
    "A nice discussion of Critters is given by Margolus in sec. 1.4 of his paper [Crystalline Computation](https://arxiv.org/abs/comp-gas/9811002)."
   ]
  },
  {
   "cell_type": "markdown",
   "id": "dbf5af67",
   "metadata": {},
   "source": [
    "Let's now go ahead and implement some Critters! First, we'll translate the rules in the image above into a Python dictionary, where the keys will be the possible current states of a 2x2 block, and the associated values will be the states to which those current states transition, according to the image above. In this implementation, in contrast to what we did with Game of Life, it'll make our lives easier to use `-1`, rather than `0`, to represent `OFF`. `ON` will still be represented by `1`."
   ]
  },
  {
   "cell_type": "code",
   "execution_count": 2,
   "id": "9f8b7061",
   "metadata": {},
   "outputs": [],
   "source": [
    "# define rules via lookup dicts\n",
    "\n",
    "# first list the possible block states (left side of the image above)\n",
    "current_states = [(-1,-1,-1,-1), (-1,-1,-1,1), (-1,-1,1,-1), (-1,-1,1,1),\n",
    "                  (-1,1,-1,-1), (-1,1,-1,1), (-1,1,1,-1), (-1,1,1,1),\n",
    "                  (1,-1,-1,-1), (1,-1,-1,1), (1,-1,1,-1), (1,-1,1,1),\n",
    "                  (1,1,-1,-1), (1,1,-1,1), (1,1,1,-1), (1,1,1,1)]\n",
    "\n",
    "# then list the states those states transition into (right side of the image)\n",
    "next_states = [(1,1,1,1), (1,1,1,-1), (1,1,-1,1), (-1,-1,1,1),\n",
    "               (1,-1,1,1), (-1,1,-1,1), (-1,1,1,-1), (-1,-1,-1,1),\n",
    "               (-1,1,1,1), (1,-1,-1,1), (1,-1,1,-1), (-1,-1,1,-1),\n",
    "               (1,1,-1,-1), (-1,1,-1,-1), (1,-1,-1,-1), (-1,-1,-1,-1)]\n",
    "\n",
    "# put these together into a dictionary\n",
    "rules = {}\n",
    "for i,s in enumerate(current_states):\n",
    "    rules[s] = next_states[i]"
   ]
  },
  {
   "cell_type": "markdown",
   "id": "7dce4274",
   "metadata": {},
   "source": [
    "Next we'll define some constants, like the size of our grid and the colors we'll use"
   ]
  },
  {
   "cell_type": "code",
   "execution_count": 3,
   "id": "499db3ce",
   "metadata": {},
   "outputs": [],
   "source": [
    "# define constants\n",
    "\n",
    "GRID_SIZE = 100      # we'll use a (100 cell) x (100 cell) grid\n",
    "SEED = 44            # RNG seed for reproducible random initial data\n",
    "\n",
    "# colormap for animations\n",
    "# dead cells will be black, live cells will be green\n",
    "cmap = ListedColormap([\"black\", \"lime\"])"
   ]
  },
  {
   "cell_type": "markdown",
   "id": "e104986f",
   "metadata": {},
   "source": [
    "We'll initialize the grid by picking a rectangular chunk of the grid in which we'll randomly turn `ON` some cells:"
   ]
  },
  {
   "cell_type": "code",
   "execution_count": 4,
   "id": "885cce64",
   "metadata": {},
   "outputs": [],
   "source": [
    "# initialize grid\n",
    "\n",
    "# seed RNG (optional, used for reproducible results)\n",
    "np.random.seed(SEED)\n",
    "\n",
    "# critters initial conditions\n",
    "grid = -1*np.ones((GRID_SIZE, GRID_SIZE))\n",
    "grid[70:80,70:80] = np.random.choice([-1,1], (10,10), p=[0.4,0.6])"
   ]
  },
  {
   "cell_type": "markdown",
   "id": "069c3a71",
   "metadata": {},
   "source": [
    "The cell below can be run to see what results from this initial \"blob\" of `ON` cells."
   ]
  },
  {
   "cell_type": "code",
   "execution_count": null,
   "id": "3fdf433d",
   "metadata": {},
   "outputs": [],
   "source": [
    "# animate\n",
    "\n",
    "# initialize figure\n",
    "fig = plt.figure(figsize=(6,6))\n",
    "ax = fig.gca()\n",
    "ax.axis('off')\n",
    "im = ax.imshow(grid, cmap=cmap)\n",
    "\n",
    "even_blocks = [[i,j] for i in range(0,GRID_SIZE,2) for j in range(0,GRID_SIZE,2)]\n",
    "odd_blocks = [[i,j] for i in range(1,GRID_SIZE,2) for j in range(1,GRID_SIZE,2)]\n",
    "\n",
    "# define update function\n",
    "def critters_update(n):\n",
    "    global grid\n",
    "    \n",
    "    # `mult` is -1 for odd blocks, +1 for even ones\n",
    "    # used for the common practice of inverting the image before displaying it, after odd updates\n",
    "    # (inverting is multiplying by -1 in our representation)\n",
    "    # to avoid flickering of \"empty space\" cells\n",
    "    mult = 1 \n",
    "    blocks = None\n",
    "    \n",
    "    if (n%2):\n",
    "        blocks = odd_blocks\n",
    "        mult = -1\n",
    "    else:\n",
    "        blocks = even_blocks\n",
    "        \n",
    "    for i,j in blocks:\n",
    "        block = (grid[i,j], grid[i,(j+1)%GRID_SIZE],\n",
    "                 grid[(i+1)%GRID_SIZE,j], grid[(i+1)%GRID_SIZE,(j+1)%GRID_SIZE])\n",
    "\n",
    "        a,b,c,d = rules[block]\n",
    "        \n",
    "        grid[i,j] = a\n",
    "        grid[i,(j+1)%GRID_SIZE] = b\n",
    "        grid[(i+1)%GRID_SIZE,j] = c\n",
    "        grid[(i+1)%GRID_SIZE,(j+1)%GRID_SIZE] = d\n",
    "            \n",
    "    # im.set_data(mult*grid)\n",
    "    return ax.imshow(mult*grid, cmap=cmap)\n",
    "\n",
    "frames = 100\n",
    "\n",
    "ims = [(im,)]\n",
    "\n",
    "for n in range(1,frames): \n",
    "    ims.append((critters_update(n),))\n",
    "        \n",
    "anim = animation.ArtistAnimation(fig, ims, interval=88, repeat_delay=0, blit=True)\n",
    "# anim.save(\"img/glider_scattering_2.gif\", writer=\"imagemagick\")"
   ]
  },
  {
   "cell_type": "markdown",
   "id": "36d6e0dc",
   "metadata": {},
   "source": [
    "This is what happened when the cell above was run for the first time, and the output saved as a .gif:\n",
    "\n",
    "![critters](img/critters.gif)\n",
    "\n",
    "The \"blob of stuff\" that we initialized the grid with kind of undulates a bit, and then starts spitting out \"gliders\" after a while:\n",
    "\n",
    "![glider](img/glider.gif)"
   ]
  },
  {
   "cell_type": "markdown",
   "id": "dcc71bb7",
   "metadata": {},
   "source": [
    "## Glider Scattering"
   ]
  },
  {
   "cell_type": "markdown",
   "id": "4e805d08",
   "metadata": {},
   "source": [
    "The gliders existing in the Critters world will be our main focus when we go to the quantum case. In particular, they can exhibit some very interesting \"scattering\" behavior that we'll make use of.\n",
    "\n",
    "Below are two nearly-identical initial conditions, each involving two gliders each. Below these images are simulations of how these initial conditions evolve."
   ]
  },
  {
   "cell_type": "markdown",
   "id": "986400c0",
   "metadata": {},
   "source": [
    "Scattering 1 | Scattering 2\n",
    ":- | :- \n",
    "![gliders_init_1](img/glider_scattering_1.png) | ![gliders_init_2](img/glider_scattering_2.png)\n",
    "![glider_scattering_1](img/glider_scattering_1.gif) | ![glider_scattering_2](img/glider_scattering_2.gif)"
   ]
  },
  {
   "cell_type": "markdown",
   "id": "95e6255a",
   "metadata": {},
   "source": [
    "In both cases, the gliders approach each other, interact, and then go their separate ways. Although the initial conditions used in each case are almost identical (see below), it is clear that the outcomes of these two events are very different. In the first case, the gliders head toward each other horizontally, but leave the interaction traveling vertically. In the second, they again approach each other horizontally but end up basically passing right through one another."
   ]
  },
  {
   "cell_type": "markdown",
   "id": "b51c4dd0",
   "metadata": {},
   "source": [
    "Below are the initial conditions used in each of these scattering setups. The only difference is that the gliders are 2 cells closer together in the second scenario than they are in the first."
   ]
  },
  {
   "cell_type": "code",
   "execution_count": null,
   "id": "f8cebe98",
   "metadata": {},
   "outputs": [],
   "source": [
    "'''\n",
    "# Scattering 1\n",
    "\n",
    "grid = -1*np.ones((GRID_SIZE, GRID_SIZE))\n",
    "\n",
    "grid[40, 40] = 1\n",
    "grid[41, 41] = 1\n",
    "grid[42, 41] = 1\n",
    "grid[43, 40] = 1\n",
    "\n",
    "grid[40, 59] = 1\n",
    "grid[41, 58] = 1\n",
    "grid[42, 58] = 1\n",
    "grid[43, 59] = 1\n",
    "\n",
    "\n",
    "# Scattering 2\n",
    "\n",
    "grid = -1*np.ones((GRID_SIZE, GRID_SIZE))\n",
    "\n",
    "grid[40, 42] = 1\n",
    "grid[41, 43] = 1\n",
    "grid[42, 43] = 1\n",
    "grid[43, 42] = 1\n",
    "\n",
    "grid[40, 59] = 1\n",
    "grid[41, 58] = 1\n",
    "grid[42, 58] = 1\n",
    "grid[43, 59] = 1\n",
    "'''"
   ]
  },
  {
   "cell_type": "markdown",
   "id": "c6541f68",
   "metadata": {},
   "source": [
    "## Conclusions"
   ]
  },
  {
   "cell_type": "markdown",
   "id": "6a348358",
   "metadata": {},
   "source": [
    "We've seen here yet another model cellular automaton called Critters. This model exhibits emergent behavior which is similar in complexity to the Game of Life, with the added feature of being governed by \"physics\" which is time-symmetric (reversible). This feature makes it incredibly simple to port over to a quantum computer. \n",
    "\n",
    "In the next notebook, that's just what we'll do. We'll discuss how to implement the Critters ruleset using [Qiskit](https://qiskit.org/), and by the end of the notebook we'll be able to witness a \"scattering\" event like those simulated here - only next time we'll be doing the scattering using a glider in a <b>quantum superposition</b>! "
   ]
  }
 ],
 "metadata": {
  "kernelspec": {
   "display_name": "Python 3 (ipykernel)",
   "language": "python",
   "name": "python3"
  },
  "language_info": {
   "codemirror_mode": {
    "name": "ipython",
    "version": 3
   },
   "file_extension": ".py",
   "mimetype": "text/x-python",
   "name": "python",
   "nbconvert_exporter": "python",
   "pygments_lexer": "ipython3",
   "version": "3.9.7"
  }
 },
 "nbformat": 4,
 "nbformat_minor": 5
}
