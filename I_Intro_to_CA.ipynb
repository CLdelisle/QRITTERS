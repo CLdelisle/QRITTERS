{
 "cells": [
  {
   "cell_type": "code",
   "execution_count": null,
   "id": "228e8f53",
   "metadata": {},
   "outputs": [],
   "source": [
    "# import necessary libraries\n",
    "\n",
    "import numpy as np\n",
    "import matplotlib.pyplot as plt\n",
    "from matplotlib.colors import ListedColormap\n",
    "from matplotlib import animation\n",
    "\n",
    "%matplotlib notebook"
   ]
  },
  {
   "cell_type": "markdown",
   "id": "dfe74261",
   "metadata": {},
   "source": [
    "# I. Introduction to Cellular Automata"
   ]
  },
  {
   "cell_type": "markdown",
   "id": "b217f7f4",
   "metadata": {},
   "source": [
    "The purpose of this notebook is to give a quick overview of what cellular automata are, how to implement one in Python, and why they are fundamentally interesting.\n",
    "\n",
    "A [Cellular Automaton](https://en.wikipedia.org/wiki/Cellular_automaton) is at its core, a virtual world comprised of \n",
    "\n",
    "(i) a <b>grid</b> of <b>cells</b>, \n",
    "\n",
    "(ii) a space of possible <b>states</b> which each cell can be in, \n",
    "\n",
    "(iii) an initial state assigned to each cell in the grid, and \n",
    "\n",
    "(iv) a <b>rule</b> for updating the state of each cell as time goes on.\n",
    "\n",
    "That's it! What's really remarkable about these models is that extremely simple choices of grid, state space, and rule can lead to extremely complex emergent behavior over time, as we'll soon see."
   ]
  },
  {
   "cell_type": "markdown",
   "id": "fd763b01",
   "metadata": {},
   "source": [
    "<span style=\"background-color:orange\"><b>Note:</b></span> All of the automata we'll be looking at, in this notebook and the others, will use a two-dimensional square grid. We'll also only consider <b>binary</b> state spaces; that is to say, each cell can only be `ON` or `OFF`. Despite the simplicity, this arrangement will still allow us to see some pretty cool emergent behavior!"
   ]
  },
  {
   "cell_type": "markdown",
   "id": "94462614",
   "metadata": {},
   "source": [
    "## The Game of Life"
   ]
  },
  {
   "cell_type": "markdown",
   "id": "5f0217a6",
   "metadata": {},
   "source": [
    "Perhaps the most famous cellular automaton is the \"[Game of Life](https://en.wikipedia.org/wiki/Conway%27s_Game_of_Life),\" invented by the mathematician John Conway in 1970.\n",
    "\n",
    "The Game of Life is described by the following rule:\n",
    "\n",
    "When doing an update, a cell is born (switched from `OFF` to `ON`) if it has exactly 3 live neighbors (neighbors in the state `ON`), and survives (is left in the state `ON`) if it has either 2 or 3 neighbors. Otherwise it dies (is put into the state `OFF`).\n",
    "\n",
    "When we count how many live neighbors a cell has, we look in its [Moore neighborhood](https://en.wikipedia.org/wiki/Moore_neighborhood) - the eight cells which surround the cell we're looking at. In our implementation we'll always use periodic boundary conditions, in which we identify the right edge of the grid with the left edge, and the top edge with the bottom. That means that cells on the rightmost column are neighbors of the cells on the leftmost column, and cells on the top row are neighbors of cells on the bottom row.\n",
    "\n",
    "Let's go ahead and code up a simple implementation of this, starting by doing the necessary imports and defining a couple constants."
   ]
  },
  {
   "cell_type": "code",
   "execution_count": null,
   "id": "aee2acc3",
   "metadata": {},
   "outputs": [],
   "source": [
    "# define constants\n",
    "\n",
    "GRID_SIZE = 100      # we'll use a (100 cell) x (100 cell) grid\n",
    "SEED = 44            # RNG seed for reproducible random initial data\n",
    "\n",
    "# colormap for animations\n",
    "# dead cells will be black, live cells will be green\n",
    "cmap = ListedColormap([\"black\", \"lime\"])"
   ]
  },
  {
   "cell_type": "markdown",
   "id": "d455c7a1",
   "metadata": {},
   "source": [
    "We can now define our grid of cells. We'll represent the states of the cells using `0` to represent a \"dead\" cell in the `OFF` state, and `1` to represent a \"live\" cell in the `ON` state. \n",
    "\n",
    "For illustrative purposes, we'll just initialize our grid by randomly picking some cells to turn `ON`. Below we implement this by turning cells `ON` with a 10% probability."
   ]
  },
  {
   "cell_type": "code",
   "execution_count": null,
   "id": "1dc7ed22",
   "metadata": {},
   "outputs": [],
   "source": [
    "# initialize grid\n",
    "\n",
    "# seed RNG (optional, used for reproducible results)\n",
    "np.random.seed(SEED)\n",
    "\n",
    "# initialize random grid\n",
    "grid = np.random.choice([0,1], (GRID_SIZE, GRID_SIZE), p=[0.9,0.1])"
   ]
  },
  {
   "cell_type": "markdown",
   "id": "9d4642ca",
   "metadata": {},
   "source": [
    "Now, what we need to do is actually define the Game of Life rules. Here's how we'll do it. \n",
    "\n",
    "The rules are defined in a 2x9 Numpy array.\n",
    "\n",
    "The first dimension (choice of row) corresponds to which state a cell is currently in, and the second dimension (choice of column) corresponds to how many live neighbors it has. \n",
    "\n",
    "For example if a cell is currently `OFF` - represented by a `0` - and it has `3` live neighbors, its new state will be `rules[0, 3]`, which is `1` (`ON`). This is the process of cell birth described above in the rules. \n",
    "\n",
    "If on the other hand, a cell is currently `ON` - represented by a `1` - but it has `8` live neighbors, its new state will be `rules[1, 8]`, which is `0` (`OFF`). The cell dies because its neighborhood is overpopulated."
   ]
  },
  {
   "cell_type": "code",
   "execution_count": null,
   "id": "032a41d5",
   "metadata": {},
   "outputs": [],
   "source": [
    "# rules for Conway's Game of Life\n",
    "rules = np.array([[0,0,0,1,0,0,0,0,0],[0,0,1,1,0,0,0,0,0]])"
   ]
  },
  {
   "cell_type": "markdown",
   "id": "33b85f8c",
   "metadata": {},
   "source": [
    "Go ahead and run the cell below to see what a typical day in the Game of Life world looks like."
   ]
  },
  {
   "cell_type": "code",
   "execution_count": null,
   "id": "c390e62e",
   "metadata": {},
   "outputs": [],
   "source": [
    "# animate\n",
    "\n",
    "# initialize figure\n",
    "fig = plt.figure(figsize=(6,6))\n",
    "ax = fig.gca()\n",
    "ax.axis('off')\n",
    "im = ax.imshow(grid, cmap=cmap)\n",
    "\n",
    "\n",
    "# define animate function\n",
    "\n",
    "def animate_life(n):\n",
    "    global grid\n",
    "    \n",
    "    # count number of live neighbors for each cell\n",
    "    # the Moore neighborhood of a cell is the union of its von Neumann neighborhood...\n",
    "    von_neumann_neighbors = np.roll(grid, 1, 0) + np.roll(grid, -1, 0) + \\\n",
    "                            np.roll(grid, 1, 1) + np.roll(grid, -1, 1)\n",
    "    # ...and the four cells adjacent to it diagonally \n",
    "    diag_neighbors = np.roll(np.roll(grid, 1, 0), 1, 1) + np.roll(np.roll(grid, 1, 0), -1, 1) + \\\n",
    "                     np.roll(np.roll(grid, -1, 0), 1, 1) + np.roll(np.roll(grid, -1, 0), -1, 1)\n",
    "    num_neighbors = von_neumann_neighbors + diag_neighbors    \n",
    "    \n",
    "    grid = rules[grid, num_neighbors]\n",
    "    im.set_data(grid)\n",
    "    return im,\n",
    "\n",
    "anim = animation.FuncAnimation(fig, animate_life, interval=88, blit=True)"
   ]
  },
  {
   "cell_type": "markdown",
   "id": "d61bab56",
   "metadata": {},
   "source": [
    "After watching for a little bit, you probably spotted some of the more common emergent entities which are known to exist within the Game of Life. Likely there were some [Blinkers](https://conwaylife.com/wiki/Blinker) and [Gliders](https://conwaylife.com/wiki/Glider), and maybe even a [Pulsar](https://conwaylife.com/wiki/Pulsar). \n",
    "\n",
    "All of these can come from our totally random initialization. With a more careful choice of initial conditions, even more interesting phenomena emerge. \n",
    "\n",
    "For example, take this relatively boring-looking choice of initial state:\n",
    "\n",
    "![shuttle initialization](img/shuttle_init.png)"
   ]
  },
  {
   "cell_type": "markdown",
   "id": "60bb9ef6",
   "metadata": {},
   "source": [
    "When we evolve this forward using the Game of Life rules, what results is a machine that creates two \"spaceships\" and continually bounces them off of one another! (This construction was found on [LifeWiki](https://conwaylife.com/wiki/Queen_bee_shuttle#Gallery))\n",
    "\n",
    "![shuttles](img/shuttles.gif)"
   ]
  },
  {
   "cell_type": "markdown",
   "id": "4d1d20f0",
   "metadata": {},
   "source": [
    "One can also create complex entities which move around the world on their own. Here's an example of a \"[Brain](https://conwaylife.com/wiki/Brain),\" a fairly large creature which seems to swim around as the grid is updated.\n",
    "\n",
    "![brain](img/brain.gif)"
   ]
  },
  {
   "cell_type": "markdown",
   "id": "01f759f1",
   "metadata": {},
   "source": [
    "These .gifs were made using the helper script `make_img.py`, which is also included in this repository."
   ]
  },
  {
   "cell_type": "markdown",
   "id": "dce4c666",
   "metadata": {},
   "source": [
    "## Conclusions"
   ]
  },
  {
   "cell_type": "markdown",
   "id": "326824eb",
   "metadata": {},
   "source": [
    "Game of Life and other cellular automata occupy a fun space. The rules which govern them are simultaneously incredibly easy to understand and implement (although scaling up to humongous world sizes presents various technical challenges), AND complex enough that they can result in the emergence of highly-recognizable creatures and events. In effect, these models provide fully-functional virtual worlds to explore, which are governed by physics that is much simpler than that in our own Universe, but still contain interesting goings-on.\n",
    "\n",
    "In fact, the description of these cellular automata aligns nicely with the way physicists understand our world today. The most fundamental formulations of modern physics have more or less done away completely with ideas of particles and objects moving around, instead describing the world in terms of <b>[fields](https://en.wikipedia.org/wiki/Field_(physics))</b>. These physical fields, like the electromagnetic field for instance, exist everywhere, taking on a value at each point of space and time, and the current understanding is that even living creatures are ultimately the result of fluctuations in the configuration of all of these fields. \n",
    "\n",
    "The Game of Life world seen above is similar; all of its interesting behavior is most primitively described in terms of a simple binary field, which takes a value of either one or zero at every point. The model then acts as an extremely simplified model of a world described by the physics of fields. In the real world though, the fields found in Nature also have another interesting property - they obey the rules of <b>[quantum mechanics](https://en.wikipedia.org/wiki/Quantum_field_theory)</b>.\n",
    "\n",
    "Ultimately the goal of this project is to introduce a <i>quantum</i> cellular automaton as a virtual example of a world which shares this property. However before we can do that we'll have to first understand another example of a classical cellular automaton. Game of Life has the property that its rules are <b>irreversible</b> - that is, many initial states of the grid can evolve to the same final state, so given a particular final state, we'd have no idea how the grid evolved up to that point. This is in contrast to the way rules work in quantum theories. In a particular sense which we will define shortly, quantum evolution is always reversible. In the next notebook therefore, we'll introduce a reversible cellular automaton called <b>Critters</b>, which will be easy to make comply with quantum mechanics."
   ]
  }
 ],
 "metadata": {
  "kernelspec": {
   "display_name": "Python 3 (ipykernel)",
   "language": "python",
   "name": "python3"
  },
  "language_info": {
   "codemirror_mode": {
    "name": "ipython",
    "version": 3
   },
   "file_extension": ".py",
   "mimetype": "text/x-python",
   "name": "python",
   "nbconvert_exporter": "python",
   "pygments_lexer": "ipython3",
   "version": "3.9.7"
  }
 },
 "nbformat": 4,
 "nbformat_minor": 5
}
